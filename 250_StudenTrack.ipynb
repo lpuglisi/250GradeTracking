{
 "cells": [
  {
   "cell_type": "markdown",
   "metadata": {},
   "source": [
    "# STATS 250 - Student Tracker\n",
    "*Find the latest version at https://github.com/lpuglisi/250GradeTracking*"
   ]
  },
  {
   "cell_type": "markdown",
   "metadata": {},
   "source": [
    "After changing the file name of the Canvas grade file in section 1, you run all cells by clicking 'Cell' > 'Run All'."
   ]
  },
  {
   "cell_type": "markdown",
   "metadata": {},
   "source": [
    "## Table of Contents\n",
    "* [Start Here](#first)\n",
    "* [Run These](#second)\n",
    "* [Explore and Customize](#third)\n",
    "    * [Generally, how are my sections doing?](#thirdfirst)\n",
    "    * [How did my sections do on the exams?](#thirdsecond)\n",
    "    * [Who is my top 10% and bottom 10% based on the Canvas current score?](#thirdthird)\n",
    "    * [How is a specific student doing?](#thirdfourth)\n",
    "    * [What grade is predicted for my students?](#thirdfifth)"
   ]
  },
  {
   "cell_type": "markdown",
   "metadata": {},
   "source": [
    "## 1) Start Here <a class=\"anchor\" id=\"first\"></a>"
   ]
  },
  {
   "cell_type": "markdown",
   "metadata": {},
   "source": [
    "Start by giving a filename of the Canvas grade file you would like to anaylze."
   ]
  },
  {
   "cell_type": "code",
   "execution_count": null,
   "metadata": {
    "collapsed": true
   },
   "outputs": [],
   "source": [
    "#Add the filename (or file path if file is not in your current directory) of the grade file you want to import in\n",
    "filename = '23_Oct_09-42_Grades-STATS_250_F17.csv'"
   ]
  },
  {
   "cell_type": "markdown",
   "metadata": {},
   "source": [
    "## 2) Run These <a class=\"anchor\" id=\"second\"></a>"
   ]
  },
  {
   "cell_type": "markdown",
   "metadata": {},
   "source": [
    "The following blocks of code do not need to be customized, they can just be run to modify the grade file from Canvas to be in a nice format. These functions will take a Canvas grade file and produce two dataframes (grades and grades2) that are easier to use for analysis. Feel free to export these files for use by running \"*grades.to_csv('filename.csv')*\"."
   ]
  },
  {
   "cell_type": "code",
   "execution_count": null,
   "metadata": {
    "collapsed": true
   },
   "outputs": [],
   "source": [
    "import pandas as pd\n",
    "import numpy as np\n",
    "import scipy as scp\n",
    "import matplotlib.pyplot as plt\n",
    "%matplotlib inline\n",
    "import seaborn as sns\n",
    "from IPython.display import display, HTML"
   ]
  },
  {
   "cell_type": "code",
   "execution_count": null,
   "metadata": {
    "collapsed": true
   },
   "outputs": [],
   "source": [
    "#This function takes a Canvas file and outputs a dataframe with a similar format to Canvas\n",
    "def MrClean(file):\n",
    "    \"Takes a Canvas grade file location, cleans it up, outputs a dataframe\"\n",
    "    df = pd.read_csv(file)\n",
    "    df.drop(0, inplace=True)\n",
    "    df.drop(1, inplace=True)\n",
    "    df.fillna(value=0,inplace=True)\n",
    "    df['ind'] = range(len(df))\n",
    "    #Correctly setting all the data types\n",
    "    df.ix[:,1:3] = df.ix[:,1:3].astype(int)\n",
    "    df.ix[:,0:5] = df.ix[:,0:5].astype(str)\n",
    "    df.ix[:,5:] = df.ix[:,5:].astype(float)\n",
    "    #Renaming fields to be more user friendly\n",
    "    df.columns = [(x.lower()).replace(' ', '_') for x in list(df.columns.values)]\n",
    "    #Pick out column names we want to keep\n",
    "    prelabnm = [sub for sub in list(df.columns) if '_prelab_'in sub]\n",
    "    attdnm = [sub for sub in list(df.columns) if 'attendance_l'in sub]\n",
    "    tcknm = [sub for sub in list(df.columns) if 'ticket_l'in sub]\n",
    "    icklnm = [sub for sub in list(df.columns) if 'iclicker'in sub]\n",
    "    lecprt = [sub for sub in list(df.columns) if 'lecpart'in sub]\n",
    "    hwnm = [sub for sub in list(df.columns) if 'hw_'in sub]\n",
    "    exmnm = [sub for sub in list(df.columns) if 'exam_'in sub]\n",
    "    wrtlnm = [sub for sub in list(df.columns) if 'write_t'in sub]\n",
    "    currscrnm = [sub for sub in list(df.columns) if 'current_score'in sub]\n",
    "    fnlscrnm = [sub for sub in list(df.columns) if 'final_score'in sub]\n",
    "    misc = ['ind','student','id','sis_user_id','sis_login_id','section']\n",
    "    keepme = misc + currscrnm + prelabnm + attdnm + tcknm + icklnm + lecprt + hwnm + exmnm + wrtlnm  + fnlscrnm\n",
    "    #Get rid of test student\n",
    "    df = df[df['student']!='Student, Test']\n",
    "    return df[keepme]\n",
    "\n",
    "#Pull out the mute flag and convert to 0,1 flag\n",
    "activeflg = pd.read_csv(filename)\n",
    "activeflg = activeflg.ix[0,:]\n",
    "activeflg = activeflg.map(pd.Series([0,1],index=['Muted',np.nan]))"
   ]
  },
  {
   "cell_type": "code",
   "execution_count": null,
   "metadata": {
    "collapsed": true
   },
   "outputs": [],
   "source": [
    "#These functions take the cleaned up file outputted from MrClean() and convert it to a long format\n",
    "def percentscore(df):\n",
    "    \"This function converts the assignment points total to a percent\"\n",
    "    if df['assntype']=='prelab':\n",
    "        scr = (df['score']/2)*100\n",
    "    elif df['assntype']=='iclicker':\n",
    "        scr = (df['score']/2)*100\n",
    "    elif df['assntype']=='ticket':\n",
    "        scr = (df['score']/2)*100\n",
    "    elif df['assntype']=='homework':\n",
    "        scr = (df['score']/35)*100\n",
    "    elif df['assntype']=='exam':\n",
    "        scr = (df['score']/75)*100\n",
    "    elif df['assntype']=='lab_attendance':\n",
    "        scr = (df['score']/1)*100\n",
    "    elif df['assntype']=='lecture_attendance':\n",
    "        scr = (df['score']/0.5)*100\n",
    "    else:\n",
    "        scr = df['score']\n",
    "    return scr\n",
    "\n",
    "def MrCleanAndOrganize(df):\n",
    "    \"This function takes the MrClean() dataframe and outputs a long format dataframe\"\n",
    "    dftmp = df.copy()\n",
    "    dftmp.set_index(['student','id','section','ind','sis_user_id','sis_login_id'], inplace=True)\n",
    "    dftmp = dftmp.stack().reset_index()\n",
    "    dftmp.columns = ['student','id','section','ind','sis_user_id','sis_login_id','assignment','score']\n",
    "    #Now lets create groupings for a useful assignment type flag\n",
    "    cond = [(dftmp['assignment'].str.contains('_prelab_')) & (~dftmp['assignment'].str.contains('score')),\n",
    "        (dftmp['assignment'].str.contains('hw_')) & (~dftmp['assignment'].str.contains('score')),\n",
    "        (dftmp['assignment'].str.contains('attendance_l')) & (~dftmp['assignment'].str.contains('score')),\n",
    "        (dftmp['assignment'].str.contains('ticket_l')) & (~dftmp['assignment'].str.contains('score')),\n",
    "        (dftmp['assignment'].str.contains('iclicker')) & (~dftmp['assignment'].str.contains('score')),\n",
    "        (dftmp['assignment'].str.contains('exam_')) & (~dftmp['assignment'].str.contains('score')),\n",
    "        (dftmp['assignment'].str.contains('write_t')) & (~dftmp['assignment'].str.contains('score')),\n",
    "        (dftmp['assignment'].str.contains('lecpart')) & (~dftmp['assignment'].str.contains('score')),\n",
    "        (dftmp['assignment'].str.contains('current_score')),\n",
    "        (dftmp['assignment'].str.contains('final_score'))]\n",
    "    cats = ['prelab','homework','lab_attendance','ticket','iclicker','exam','write','lecture_attendance','current','final']\n",
    "    dftmp['assntype'] = np.select(cond, cats, default='zzzz')\n",
    "    dftmp['score_percent'] = dftmp.apply(percentscore,axis=1)\n",
    "    #Add an mute flag for each assignment to tell if assignment is muted on Canvas\n",
    "    newlab = [(x.lower()).replace(' ', '_') for x in list(activeflg.index.values)]\n",
    "    act = activeflg.reset_index()\n",
    "    act['index'] = newlab\n",
    "    act = act.set_index(keys='index')\n",
    "    act = pd.Series(act[0])\n",
    "    dftmp['muteflag'] = dftmp.assignment.map(act)\n",
    "    return dftmp"
   ]
  },
  {
   "cell_type": "code",
   "execution_count": null,
   "metadata": {
    "collapsed": true
   },
   "outputs": [],
   "source": [
    "#Load in and clean up the grades\n",
    "grades = MrClean(filename)\n",
    "#Create a new version of grades that is in long format\n",
    "grades2 = MrCleanAndOrganize(grades)"
   ]
  },
  {
   "cell_type": "code",
   "execution_count": null,
   "metadata": {
    "collapsed": true
   },
   "outputs": [],
   "source": [
    "#Adding a quantile value for each student by each assignment's current score\n",
    "currscrnm = [sub for sub in list(grades.columns) if 'current_score'in sub]\n",
    "for i in currscrnm:\n",
    "    lst = list(grades[i].values)\n",
    "    grades['qnt_'+i] = [round(scp.stats.percentileofscore(lst,grd,'weak')) for grd in lst]"
   ]
  },
  {
   "cell_type": "markdown",
   "metadata": {},
   "source": [
    "## 3) Explore and Customize <a class=\"anchor\" id=\"third\"></a>"
   ]
  },
  {
   "cell_type": "markdown",
   "metadata": {},
   "source": [
    "The following sections try to answer specific questions about your labs. There are sections that explore the overall lab and sections that explore specific students. Subtitles indicate if you need to customize certain sections for students or exams you are interested in."
   ]
  },
  {
   "cell_type": "markdown",
   "metadata": {},
   "source": [
    "### 3.1) Generally, how are my sections doing? <a class=\"anchor\" id=\"thirdfirst\"></a>"
   ]
  },
  {
   "cell_type": "code",
   "execution_count": null,
   "metadata": {},
   "outputs": [],
   "source": [
    "#Scatter plot of the all sections to see generally how students are doing (based on current score)\n",
    "#Setting style of scatter\n",
    "sns.set_context(\"poster\", font_scale=0.8)\n",
    "sns.set_style(\"ticks\")\n",
    "\n",
    "# Create scatterplot of dataframe\n",
    "sns.lmplot(x='ind',y='current_score',data=grades, fit_reg=False, hue=\"section\", size=10,scatter_kws={\"marker\": \"D\",\"s\": 100})\n",
    "\n",
    "# Define the labels\n",
    "plt.title('Distribution by Lab Section')\n",
    "plt.xlabel('Student')\n",
    "plt.ylabel('Current Score (%)')"
   ]
  },
  {
   "cell_type": "code",
   "execution_count": null,
   "metadata": {},
   "outputs": [],
   "source": [
    "#Generally how is each section doing\n",
    "grades.pivot_table(index='section', values=currscrnm,aggfunc=np.mean)"
   ]
  },
  {
   "cell_type": "markdown",
   "metadata": {},
   "source": [
    "### 3.2) How did my sections do on the exam? <a class=\"anchor\" id=\"thirdsecond\"></a>"
   ]
  },
  {
   "cell_type": "markdown",
   "metadata": {},
   "source": [
    "#### Enter Exam"
   ]
  },
  {
   "cell_type": "code",
   "execution_count": null,
   "metadata": {
    "collapsed": true
   },
   "outputs": [],
   "source": [
    "#Enter 'exam_1', 'exam_2', or 'final_exam'\n",
    "exam = 'exam_1'"
   ]
  },
  {
   "cell_type": "markdown",
   "metadata": {},
   "source": [
    "#### Run these"
   ]
  },
  {
   "cell_type": "code",
   "execution_count": null,
   "metadata": {},
   "outputs": [],
   "source": [
    "exmflt = grades2['assignment'].str.contains(exam)\n",
    "exmsum = pd.DataFrame(grades2[exmflt].groupby('section').score_percent.describe()).round(2)\n",
    "exmsum"
   ]
  },
  {
   "cell_type": "code",
   "execution_count": null,
   "metadata": {},
   "outputs": [],
   "source": [
    "exmsum_plt = (exmsum.reset_index()).rename(columns={'level_1':'Stats'})\n",
    "fiveplt = sns.factorplot(x='score_percent', y='Stats', col='section',kind='bar',  data=exmsum_plt)"
   ]
  },
  {
   "cell_type": "markdown",
   "metadata": {},
   "source": [
    "#### Enter a Section Number"
   ]
  },
  {
   "cell_type": "code",
   "execution_count": null,
   "metadata": {
    "collapsed": true
   },
   "outputs": [],
   "source": [
    "sct = 'Section 061'"
   ]
  },
  {
   "cell_type": "code",
   "execution_count": null,
   "metadata": {},
   "outputs": [],
   "source": [
    "sns.distplot(grades2[(exmflt) & (grades2['section'].str.contains(sct))].score_percent.map(int), rug=True)\n",
    "plt.axes().set_title(sct +  ' ' + 'Distribution ('+exam+')')"
   ]
  },
  {
   "cell_type": "markdown",
   "metadata": {},
   "source": [
    "### 3.3) Who is my top 10% and bottom 10% based on the Canvas current score? <a class=\"anchor\" id=\"thirdthird\"></a>"
   ]
  },
  {
   "cell_type": "markdown",
   "metadata": {},
   "source": [
    "#### Bottom 10%"
   ]
  },
  {
   "cell_type": "code",
   "execution_count": null,
   "metadata": {},
   "outputs": [],
   "source": [
    "#Students in the bottom 10% of current score\n",
    "bott = grades[grades['qnt_current_score']<10]\n",
    "bott[['student', 'id','section']+currscrnm]"
   ]
  },
  {
   "cell_type": "markdown",
   "metadata": {},
   "source": [
    "#### Top 10%"
   ]
  },
  {
   "cell_type": "code",
   "execution_count": null,
   "metadata": {},
   "outputs": [],
   "source": [
    "#Students in the top 10% of current score\n",
    "top = grades[grades['qnt_current_score']>90]\n",
    "top[['student', 'id','section']+currscrnm]"
   ]
  },
  {
   "cell_type": "markdown",
   "metadata": {},
   "source": [
    "### 3.4) How is a specific student doing? <a class=\"anchor\" id=\"thirdfourth\"></a>"
   ]
  },
  {
   "cell_type": "markdown",
   "metadata": {},
   "source": [
    "#### Enter an assignment and a student name (case sensitive with partial matches) or ID"
   ]
  },
  {
   "cell_type": "code",
   "execution_count": null,
   "metadata": {
    "collapsed": true
   },
   "outputs": [],
   "source": [
    "#Add a student name (Case sensitive) or student ID, and an assignment type you want to investigate\n",
    "\n",
    "#Possible assignment types are:\n",
    "#'current', 'prelab', 'lab_attendance', 'ticket', 'iclicker','final', 'lecture_attendance', 'homework', 'exam', 'write'\n",
    "\n",
    "studentname = 'John'\n",
    "studentid = '111111'\n",
    "assignment = 'homework'"
   ]
  },
  {
   "cell_type": "markdown",
   "metadata": {},
   "source": [
    "#### Run These"
   ]
  },
  {
   "cell_type": "code",
   "execution_count": null,
   "metadata": {},
   "outputs": [],
   "source": [
    "#Look up specific student scores (checks if there are more than one student based on the name/ID)\n",
    "nst = len(grades2[((grades2['student'].str.contains(studentname)) | (grades2['id']==studentid))].student.unique())\n",
    "if (nst != 1):\n",
    "    print(\"HEY! There are {} matching students based on the info you added above (try using only a student ID)\".format(nst))\n",
    "else:\n",
    "    stdname = grades2[((grades2['student'].str.contains(studentname)) | (grades2['id']==studentid))].student.unique()[0]\n",
    "    stdid = grades2[((grades2['student'].str.contains(studentname)) | (grades2['id']==studentid))].id.unique()[0]\n",
    "    display(grades2[(grades2['assntype']==assignment) & (grades2['student']==stdname)])"
   ]
  },
  {
   "cell_type": "code",
   "execution_count": null,
   "metadata": {},
   "outputs": [],
   "source": [
    "#Scatter of un-muted assignments by assignment grouping\n",
    "sns.set_style(\"whitegrid\")\n",
    "sns.swarmplot(x=\"score_percent\", y=\"assntype\", size=10,data=grades2[(grades2['id']==stdid) & (grades2['muteflag']!=0) & (~grades2['assntype'].isin(['final','current','zzzz']))])\n",
    "plt.axes().set_title('Current Grades for ' + stdname + ' (' + stdid + ')')"
   ]
  },
  {
   "cell_type": "markdown",
   "metadata": {},
   "source": [
    "### 3.5) What grade is predicted for my students? <a class=\"anchor\" id=\"thirdfifth\"></a>"
   ]
  },
  {
   "cell_type": "markdown",
   "metadata": {},
   "source": [
    "### Coming Soon..."
   ]
  },
  {
   "cell_type": "markdown",
   "metadata": {},
   "source": [
    "* Calculated based on prelab, HW, exams, and attendance what the predicted grade for my student\n",
    "* Try to figure out students that have a current grade higher/lower than the predicted grade\n",
    "* Spot students trending up or down"
   ]
  }
 ],
 "metadata": {
  "kernelspec": {
   "display_name": "Python 3",
   "language": "python",
   "name": "python3"
  },
  "language_info": {
   "codemirror_mode": {
    "name": "ipython",
    "version": 3
   },
   "file_extension": ".py",
   "mimetype": "text/x-python",
   "name": "python",
   "nbconvert_exporter": "python",
   "pygments_lexer": "ipython3",
   "version": "3.6.0"
  }
 },
 "nbformat": 4,
 "nbformat_minor": 2
}
